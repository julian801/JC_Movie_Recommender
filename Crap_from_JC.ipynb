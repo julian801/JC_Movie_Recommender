{
 "cells": [
  {
   "cell_type": "code",
   "execution_count": 61,
   "metadata": {},
   "outputs": [],
   "source": [
    "import pandas as pd\n",
    "import numpy as np\n",
    "from sklearn.decomposition import PCA\n",
    "from sklearn.preprocessing import MinMaxScaler\n",
    "from sklearn.metrics.pairwise import cosine_similarity\n",
    "import seaborn as sns\n",
    "from random import randint\n",
    "import random\n",
    "from matplotlib import pyplot as plt\n",
    "from matplotlib import pyplot as plt\n",
    "%matplotlib inline\n",
    "import csv"
   ]
  },
  {
   "cell_type": "code",
   "execution_count": 172,
   "metadata": {},
   "outputs": [],
   "source": [
    "def LoadData():\n",
    "    PATH2 = \"ratings.csv\"\n",
    "    PATH3 = \"movies.csv\"\n",
    "    ratings, movies_ind = pd.read_csv(PATH2), pd.read_csv(PATH3)\n",
    "    del ratings['timestamp']\n",
    "    ratings.set_index(['userId','movieId'], inplace=True)\n",
    "    ratings = ratings.unstack(0)\n",
    "    #Rpca = ratings.copy()\n",
    "    #Rpca.fillna(Rpca.mean(),inplace=True)\n",
    "    #user_NA = ratings[ratings[1] == na].index ###Fix this!!!\n",
    "    ratings = ratings.fillna(0)\n",
    "    ratings = ratings[\"rating\"]\n",
    "    return\n",
    "    "
   ]
  },
  {
   "cell_type": "code",
   "execution_count": 258,
   "metadata": {},
   "outputs": [],
   "source": [
    "def MovieRec():\n",
    "    LoadData()\n",
    "    similarity = cosine_similarity(ratings)\n",
    "    user_input = input(\"Select an user ID to recommend movies to: \")\n",
    "    ind = np.argpartition(similarity[int(user_input) ], -6)[-6:] \n",
    "    Select = ind[0:5][randint(0, 4)] #Randomly select one of the top 5 most similar users\n",
    "    sim_user=ratings[Select] ##Similar user ID\n",
    "    sim_ind = sim_user.sort_values(ascending=False).head(5).index\n",
    "    movies_ind.set_index('movieId')\n",
    "    title = movies_ind[movies_ind['movieId'] == movie_rec] ['title']\n",
    "    print('Other users like you also liked: ' + title)\n",
    "    return\n"
   ]
  },
  {
   "cell_type": "code",
   "execution_count": 271,
   "metadata": {},
   "outputs": [
    {
     "name": "stdout",
     "output_type": "stream",
     "text": [
      "Select an user ID to recommend movies to: 5\n",
      "4909    Other users like you also liked: Eternal Sunsh...\n",
      "Name: title, dtype: object\n"
     ]
    }
   ],
   "source": [
    "MovieRec() #111 was aproblem"
   ]
  },
  {
   "cell_type": "markdown",
   "metadata": {},
   "source": [
    "###### "
   ]
  },
  {
   "cell_type": "code",
   "execution_count": null,
   "metadata": {},
   "outputs": [],
   "source": []
  },
  {
   "cell_type": "code",
   "execution_count": null,
   "metadata": {},
   "outputs": [],
   "source": []
  },
  {
   "cell_type": "code",
   "execution_count": null,
   "metadata": {},
   "outputs": [],
   "source": []
  },
  {
   "cell_type": "code",
   "execution_count": null,
   "metadata": {},
   "outputs": [],
   "source": []
  },
  {
   "cell_type": "code",
   "execution_count": null,
   "metadata": {},
   "outputs": [],
   "source": []
  },
  {
   "cell_type": "markdown",
   "metadata": {},
   "source": [
    "#### PCA"
   ]
  },
  {
   "cell_type": "code",
   "execution_count": 12,
   "metadata": {},
   "outputs": [
    {
     "data": {
      "text/plain": [
       "array([0.04089924, 0.02026083, 0.01996139])"
      ]
     },
     "execution_count": 12,
     "metadata": {},
     "output_type": "execute_result"
    }
   ],
   "source": [
    "X = Rpca - Rpca.mean()\n",
    "X.mean()\n",
    "pca = PCA(n_components=3)\n",
    "pca.fit(X)\n",
    "Xt = pca.transform(X)\n",
    "pca.components_\n",
    "pca.explained_variance_ratio_"
   ]
  },
  {
   "cell_type": "code",
   "execution_count": null,
   "metadata": {},
   "outputs": [],
   "source": []
  },
  {
   "cell_type": "code",
   "execution_count": 6,
   "metadata": {},
   "outputs": [],
   "source": [
    "#del ratings['timestamp']"
   ]
  },
  {
   "cell_type": "code",
   "execution_count": null,
   "metadata": {},
   "outputs": [],
   "source": []
  }
 ],
 "metadata": {
  "kernelspec": {
   "display_name": "Python 3",
   "language": "python",
   "name": "python3"
  },
  "language_info": {
   "codemirror_mode": {
    "name": "ipython",
    "version": 3
   },
   "file_extension": ".py",
   "mimetype": "text/x-python",
   "name": "python",
   "nbconvert_exporter": "python",
   "pygments_lexer": "ipython3",
   "version": "3.6.6"
  }
 },
 "nbformat": 4,
 "nbformat_minor": 2
}
