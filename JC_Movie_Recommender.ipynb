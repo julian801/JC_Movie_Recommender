{
 "cells": [
  {
   "cell_type": "code",
   "execution_count": 16,
   "metadata": {},
   "outputs": [],
   "source": [
    "import pandas as pd\n",
    "\n",
    "PATH = \"movie_recommendations.xlsx\"\n",
    "\n",
    "df = pd.read_excel(PATH)\n",
    "\n"
   ]
  },
  {
   "cell_type": "code",
   "execution_count": 17,
   "metadata": {},
   "outputs": [],
   "source": [
    "# produce clean unique index\n",
    "df.sort_values(by=['Name', 'Genre', 'Reviewer'], inplace=True)\n",
    "clean = df.drop_duplicates().dropna()\n"
   ]
  },
  {
   "cell_type": "code",
   "execution_count": 18,
   "metadata": {},
   "outputs": [],
   "source": [
    "long = clean.set_index(['Name', 'Genre', 'Reviewer'])"
   ]
  },
  {
   "cell_type": "code",
   "execution_count": 19,
   "metadata": {},
   "outputs": [
    {
     "name": "stdout",
     "output_type": "stream",
     "text": [
      "        Genre          \n",
      "Rating  Action             1.500000\n",
      "        Adventure          1.000000\n",
      "        Biopic             4.000000\n",
      "        Cartoon            3.500000\n",
      "        Comedy             3.818182\n",
      "        Comedy / Trippy    4.000000\n",
      "        Crime              4.400000\n",
      "        Dark Comedy        4.500000\n",
      "        Data Science       3.750000\n",
      "        Drama              4.250000\n",
      "        Fantasy            4.000000\n",
      "        Farce              1.000000\n",
      "        Horror             3.333333\n",
      "        Kaiju              1.000000\n",
      "        Musical            1.500000\n",
      "        Mystery            5.000000\n",
      "        Revolutionary      4.000000\n",
      "        Samurai            4.000000\n",
      "        Sci-Fi             4.200000\n",
      "        Thriller           5.000000\n",
      "        Trippy             4.000000\n",
      "dtype: float64\n"
     ]
    }
   ],
   "source": [
    "# mean rating per genre\n",
    "print(long.unstack(1).mean())"
   ]
  },
  {
   "cell_type": "code",
   "execution_count": null,
   "metadata": {},
   "outputs": [],
   "source": []
  }
 ],
 "metadata": {
  "kernelspec": {
   "display_name": "Python 3",
   "language": "python",
   "name": "python3"
  },
  "language_info": {
   "codemirror_mode": {
    "name": "ipython",
    "version": 3
   },
   "file_extension": ".py",
   "mimetype": "text/x-python",
   "name": "python",
   "nbconvert_exporter": "python",
   "pygments_lexer": "ipython3",
   "version": "3.6.5"
  }
 },
 "nbformat": 4,
 "nbformat_minor": 2
}
