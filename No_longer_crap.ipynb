{
 "cells": [
  {
   "cell_type": "markdown",
   "metadata": {},
   "source": [
    "## NMF = Not Monday night Football !"
   ]
  },
  {
   "cell_type": "code",
   "execution_count": 1,
   "metadata": {},
   "outputs": [],
   "source": [
    "import pandas as pd\n",
    "import numpy as np\n",
    "from sklearn.decomposition import PCA\n",
    "from sklearn.preprocessing import MinMaxScaler\n",
    "from sklearn.metrics.pairwise import cosine_similarity\n",
    "import seaborn as sns\n",
    "from random import randint\n",
    "import numpy as np\n",
    "from sklearn.decomposition import NMF\n",
    "import pandas as pd\n",
    "import random\n",
    "from matplotlib import pyplot as plt\n",
    "%matplotlib inline\n",
    "import csv"
   ]
  },
  {
   "cell_type": "markdown",
   "metadata": {},
   "source": [
    "# User Input"
   ]
  },
  {
   "cell_type": "code",
   "execution_count": 2,
   "metadata": {},
   "outputs": [],
   "source": [
    "#importing ratings and movies csv files\n",
    "PATH2 = \"ratings.csv\"\n",
    "PATH3 = \"movies.csv\"\n",
    "ratings, movies_ind = pd.read_csv(PATH2), pd.read_csv(PATH3)"
   ]
  },
  {
   "cell_type": "code",
   "execution_count": 3,
   "metadata": {},
   "outputs": [],
   "source": [
    "# create an empty array the length of number of movies in system\n",
    "user_ratings = np.zeros(9724)"
   ]
  },
  {
   "cell_type": "code",
   "execution_count": 4,
   "metadata": {},
   "outputs": [],
   "source": [
    "#format ratings dataframe\n",
    "del ratings['timestamp']\n",
    "ratings.set_index(['userId','movieId'], inplace=True)\n",
    "ratings = ratings.unstack(0)"
   ]
  },
  {
   "cell_type": "code",
   "execution_count": 5,
   "metadata": {},
   "outputs": [],
   "source": [
    "ratings_count = ratings.count(axis=1) #count the number of ratings for each movie as a measure of popularity\n",
    "top = pd.DataFrame(ratings_count.sort_values(ascending = False).head(10)) #create a dataframe of the top 20 most popular movies"
   ]
  },
  {
   "cell_type": "code",
   "execution_count": 6,
   "metadata": {},
   "outputs": [],
   "source": [
    "top.reset_index(inplace=True)"
   ]
  },
  {
   "cell_type": "code",
   "execution_count": 7,
   "metadata": {},
   "outputs": [],
   "source": [
    "# get a list of top movie titles from movie id\n",
    "top_movies = []\n",
    "for x in top['movieId']:\n",
    "    top_movies.append(movies_ind[movies_ind['movieId']== x])"
   ]
  },
  {
   "cell_type": "markdown",
   "metadata": {},
   "source": [
    "## Of the following movies, rate all that you have seen on a scale of 1-5. \n",
    "## If you have not seen a movie, rate 0."
   ]
  },
  {
   "cell_type": "code",
   "execution_count": 8,
   "metadata": {
    "scrolled": true
   },
   "outputs": [
    {
     "name": "stdout",
     "output_type": "stream",
     "text": [
      "How would you rate 314    Forrest Gump (1994)\n",
      "Name: title, dtype: object2\n",
      "How would you rate 277    Shawshank Redemption, The (1994)\n",
      "Name: title, dtype: object3\n",
      "How would you rate 257    Pulp Fiction (1994)\n",
      "Name: title, dtype: object2\n",
      "How would you rate 510    Silence of the Lambs, The (1991)\n",
      "Name: title, dtype: object3\n",
      "How would you rate 1939    Matrix, The (1999)\n",
      "Name: title, dtype: object4\n",
      "How would you rate 224    Star Wars: Episode IV - A New Hope (1977)\n",
      "Name: title, dtype: object2\n",
      "How would you rate 418    Jurassic Park (1993)\n",
      "Name: title, dtype: object3\n",
      "How would you rate 97    Braveheart (1995)\n",
      "Name: title, dtype: object4\n",
      "How would you rate 507    Terminator 2: Judgment Day (1991)\n",
      "Name: title, dtype: object2\n",
      "How would you rate 461    Schindler's List (1993)\n",
      "Name: title, dtype: object3\n"
     ]
    }
   ],
   "source": [
    "#creates a list of ratings for the prompted movies\n",
    "user_input = []\n",
    "for i in range(0,10):\n",
    "    answer = int(input(\"How would you rate \" + str(top_movies[i]['title'])))\n",
    "    user_input.append(answer)"
   ]
  },
  {
   "cell_type": "code",
   "execution_count": 9,
   "metadata": {},
   "outputs": [],
   "source": [
    "# collect the indexes for each film in the user input array\n",
    "top_movies_index = []\n",
    "for x in range(0,10):\n",
    "    top_movies_index.append(top_movies[x].index)"
   ]
  },
  {
   "cell_type": "code",
   "execution_count": 10,
   "metadata": {},
   "outputs": [],
   "source": [
    "# inputs user rating into large array (9,000+ count) at appropriate indexes\n",
    "for i in range(0,10):\n",
    "    user_ratings[top_movies_index[i]] = user_ratings[i]"
   ]
  },
  {
   "cell_type": "code",
   "execution_count": 11,
   "metadata": {},
   "outputs": [
    {
     "data": {
      "text/plain": [
       "array([0., 0., 0., ..., 0., 0., 0.])"
      ]
     },
     "execution_count": 11,
     "metadata": {},
     "output_type": "execute_result"
    }
   ],
   "source": [
    "user_ratings"
   ]
  },
  {
   "cell_type": "markdown",
   "metadata": {},
   "source": [
    "# NMF Modeling"
   ]
  },
  {
   "cell_type": "code",
   "execution_count": 12,
   "metadata": {},
   "outputs": [],
   "source": [
    "PATH2 = \"ratings.csv\"\n",
    "PATH3 = \"movies.csv\"\n",
    "ratings, movies_ind = pd.read_csv(PATH2), pd.read_csv(PATH3)\n",
    "del ratings['timestamp']\n",
    "ratings.set_index(['movieId','userId'], inplace=True)\n",
    "ratings = ratings.unstack(0)\n",
    "ratings = ratings.fillna(0)\n",
    "ratings = ratings[\"rating\"]\n",
    "#ratings = ratings.transpose()\n"
   ]
  },
  {
   "cell_type": "code",
   "execution_count": 13,
   "metadata": {},
   "outputs": [
    {
     "data": {
      "text/html": [
       "<div>\n",
       "<style scoped>\n",
       "    .dataframe tbody tr th:only-of-type {\n",
       "        vertical-align: middle;\n",
       "    }\n",
       "\n",
       "    .dataframe tbody tr th {\n",
       "        vertical-align: top;\n",
       "    }\n",
       "\n",
       "    .dataframe thead th {\n",
       "        text-align: right;\n",
       "    }\n",
       "</style>\n",
       "<table border=\"1\" class=\"dataframe\">\n",
       "  <thead>\n",
       "    <tr style=\"text-align: right;\">\n",
       "      <th>movieId</th>\n",
       "      <th>1</th>\n",
       "      <th>2</th>\n",
       "      <th>3</th>\n",
       "      <th>4</th>\n",
       "      <th>5</th>\n",
       "      <th>6</th>\n",
       "      <th>7</th>\n",
       "      <th>8</th>\n",
       "      <th>9</th>\n",
       "      <th>10</th>\n",
       "      <th>...</th>\n",
       "      <th>193565</th>\n",
       "      <th>193567</th>\n",
       "      <th>193571</th>\n",
       "      <th>193573</th>\n",
       "      <th>193579</th>\n",
       "      <th>193581</th>\n",
       "      <th>193583</th>\n",
       "      <th>193585</th>\n",
       "      <th>193587</th>\n",
       "      <th>193609</th>\n",
       "    </tr>\n",
       "    <tr>\n",
       "      <th>userId</th>\n",
       "      <th></th>\n",
       "      <th></th>\n",
       "      <th></th>\n",
       "      <th></th>\n",
       "      <th></th>\n",
       "      <th></th>\n",
       "      <th></th>\n",
       "      <th></th>\n",
       "      <th></th>\n",
       "      <th></th>\n",
       "      <th></th>\n",
       "      <th></th>\n",
       "      <th></th>\n",
       "      <th></th>\n",
       "      <th></th>\n",
       "      <th></th>\n",
       "      <th></th>\n",
       "      <th></th>\n",
       "      <th></th>\n",
       "      <th></th>\n",
       "      <th></th>\n",
       "    </tr>\n",
       "  </thead>\n",
       "  <tbody>\n",
       "    <tr>\n",
       "      <th>1</th>\n",
       "      <td>4.0</td>\n",
       "      <td>0.0</td>\n",
       "      <td>4.0</td>\n",
       "      <td>0.0</td>\n",
       "      <td>0.0</td>\n",
       "      <td>4.0</td>\n",
       "      <td>0.0</td>\n",
       "      <td>0.0</td>\n",
       "      <td>0.0</td>\n",
       "      <td>0.0</td>\n",
       "      <td>...</td>\n",
       "      <td>0.0</td>\n",
       "      <td>0.0</td>\n",
       "      <td>0.0</td>\n",
       "      <td>0.0</td>\n",
       "      <td>0.0</td>\n",
       "      <td>0.0</td>\n",
       "      <td>0.0</td>\n",
       "      <td>0.0</td>\n",
       "      <td>0.0</td>\n",
       "      <td>0.0</td>\n",
       "    </tr>\n",
       "    <tr>\n",
       "      <th>2</th>\n",
       "      <td>0.0</td>\n",
       "      <td>0.0</td>\n",
       "      <td>0.0</td>\n",
       "      <td>0.0</td>\n",
       "      <td>0.0</td>\n",
       "      <td>0.0</td>\n",
       "      <td>0.0</td>\n",
       "      <td>0.0</td>\n",
       "      <td>0.0</td>\n",
       "      <td>0.0</td>\n",
       "      <td>...</td>\n",
       "      <td>0.0</td>\n",
       "      <td>0.0</td>\n",
       "      <td>0.0</td>\n",
       "      <td>0.0</td>\n",
       "      <td>0.0</td>\n",
       "      <td>0.0</td>\n",
       "      <td>0.0</td>\n",
       "      <td>0.0</td>\n",
       "      <td>0.0</td>\n",
       "      <td>0.0</td>\n",
       "    </tr>\n",
       "    <tr>\n",
       "      <th>3</th>\n",
       "      <td>0.0</td>\n",
       "      <td>0.0</td>\n",
       "      <td>0.0</td>\n",
       "      <td>0.0</td>\n",
       "      <td>0.0</td>\n",
       "      <td>0.0</td>\n",
       "      <td>0.0</td>\n",
       "      <td>0.0</td>\n",
       "      <td>0.0</td>\n",
       "      <td>0.0</td>\n",
       "      <td>...</td>\n",
       "      <td>0.0</td>\n",
       "      <td>0.0</td>\n",
       "      <td>0.0</td>\n",
       "      <td>0.0</td>\n",
       "      <td>0.0</td>\n",
       "      <td>0.0</td>\n",
       "      <td>0.0</td>\n",
       "      <td>0.0</td>\n",
       "      <td>0.0</td>\n",
       "      <td>0.0</td>\n",
       "    </tr>\n",
       "  </tbody>\n",
       "</table>\n",
       "<p>3 rows × 9724 columns</p>\n",
       "</div>"
      ],
      "text/plain": [
       "movieId  1       2       3       4       5       6       7       8       \\\n",
       "userId                                                                    \n",
       "1           4.0     0.0     4.0     0.0     0.0     4.0     0.0     0.0   \n",
       "2           0.0     0.0     0.0     0.0     0.0     0.0     0.0     0.0   \n",
       "3           0.0     0.0     0.0     0.0     0.0     0.0     0.0     0.0   \n",
       "\n",
       "movieId  9       10       ...    193565  193567  193571  193573  193579  \\\n",
       "userId                    ...                                             \n",
       "1           0.0     0.0   ...       0.0     0.0     0.0     0.0     0.0   \n",
       "2           0.0     0.0   ...       0.0     0.0     0.0     0.0     0.0   \n",
       "3           0.0     0.0   ...       0.0     0.0     0.0     0.0     0.0   \n",
       "\n",
       "movieId  193581  193583  193585  193587  193609  \n",
       "userId                                           \n",
       "1           0.0     0.0     0.0     0.0     0.0  \n",
       "2           0.0     0.0     0.0     0.0     0.0  \n",
       "3           0.0     0.0     0.0     0.0     0.0  \n",
       "\n",
       "[3 rows x 9724 columns]"
      ]
     },
     "execution_count": 13,
     "metadata": {},
     "output_type": "execute_result"
    }
   ],
   "source": [
    "ratings.head(3)"
   ]
  },
  {
   "cell_type": "code",
   "execution_count": 32,
   "metadata": {},
   "outputs": [],
   "source": [
    "R = pd.DataFrame(ratings)\n",
    "# model assumes R ~ PQ'\n",
    "model = NMF(n_components=5, init='random', random_state=10)\n",
    "model.fit(R)\n",
    "\n",
    "P = model.components_  # Movie feature\n",
    "Q = model.transform(R)  # User features\n",
    "#print(Q)\n",
    "\n",
    "#print(model.reconstruction_err_)\n",
    "\n",
    "nR = np.dot(Q,P) ### Reconstructed model\n",
    "#print(nR)\n",
    "\n",
    "###########Delete the crap below later \n",
    "#query = np.zeros(9724) ###This comes from Glynis array the size = # movies\n",
    "#rr= 2\n",
    "#for i in range(0,100):\n",
    "   # print(i)\n",
    "  #  query[i] = rr\n",
    "  #  if i == 50:\n",
    "      #  rr = 4\n",
    "########################Delete this after we have user input \n",
    "\n",
    "query= user_ratings\n",
    "query = query.reshape(1,-1)\n",
    "t=model.transform(query)\n",
    "model.transform(query)\n",
    "outcome = np.dot(t,P)\n",
    "\n",
    "##### Now we Select the best movies to offer the user\n",
    "#ind = np.argpartition(outcome[0], -5)[-5:] \n",
    "#Select = ind[0:5][randint(0, 4)]"
   ]
  },
  {
   "cell_type": "code",
   "execution_count": 35,
   "metadata": {},
   "outputs": [],
   "source": [
    "outcome=pd.DataFrame(outcome)"
   ]
  },
  {
   "cell_type": "code",
   "execution_count": 36,
   "metadata": {},
   "outputs": [],
   "source": [
    "outcome = outcome.transpose()"
   ]
  },
  {
   "cell_type": "code",
   "execution_count": 37,
   "metadata": {},
   "outputs": [],
   "source": [
    "outcome['movieId'] = movies_ind['movieId']"
   ]
  },
  {
   "cell_type": "code",
   "execution_count": 38,
   "metadata": {},
   "outputs": [],
   "source": [
    "outcome = outcome.rename(columns={0:'rating'})"
   ]
  },
  {
   "cell_type": "code",
   "execution_count": 39,
   "metadata": {},
   "outputs": [
    {
     "data": {
      "text/plain": [
       "[   movieId             title                                       genres\n",
       " 0        1  Toy Story (1995)  Adventure|Animation|Children|Comedy|Fantasy,\n",
       "       movieId                      title                    genres\n",
       " 6477    52885  Paprika (Papurika) (2006)  Animation|Mystery|Sci-Fi,\n",
       "       movieId                   title genres\n",
       " 6479    52952  This Is England (2006)  Drama,\n",
       "       movieId                 title genres\n",
       " 6480    52967  Away from Her (2006)  Drama,\n",
       "       movieId              title                genres\n",
       " 6481    52973  Knocked Up (2007)  Comedy|Drama|Romance,\n",
       "       movieId             title                genres\n",
       " 6482    52975  Hairspray (2007)  Comedy|Drama|Musical,\n",
       "       movieId                  title                  genres\n",
       " 6483    53000  28 Weeks Later (2007)  Horror|Sci-Fi|Thriller,\n",
       "       movieId                                  title  \\\n",
       " 6484    53022  Wheels on Meals (Kuai can che) (1984)   \n",
       " \n",
       "                            genres  \n",
       " 6484  Action|Comedy|Crime|Romance  ,\n",
       "       movieId                                              title       genres\n",
       " 6485    53024  Jonestown: The Life and Death of Peoples Templ...  Documentary,\n",
       "       movieId                   title  \\\n",
       " 6486    53121  Shrek the Third (2007)   \n",
       " \n",
       "                                            genres  \n",
       " 6486  Adventure|Animation|Children|Comedy|Fantasy  ]"
      ]
     },
     "execution_count": 39,
     "metadata": {},
     "output_type": "execute_result"
    }
   ],
   "source": [
    "top =outcome.sort_values(by='rating',ascending=False).head(10)\n",
    "\n",
    "top_movies = []\n",
    "for x in top['movieId']:\n",
    "   top_movies.append(movies_ind[movies_ind['movieId']== x])\n",
    "\n",
    "top_movies"
   ]
  },
  {
   "cell_type": "code",
   "execution_count": 40,
   "metadata": {},
   "outputs": [],
   "source": [
    "# select a random movie from top five options\n",
    "# we should filter by genre next\n",
    "Select = top_movies[0:5][randint(0, 4)]"
   ]
  },
  {
   "cell_type": "code",
   "execution_count": 41,
   "metadata": {},
   "outputs": [
    {
     "data": {
      "text/html": [
       "<div>\n",
       "<style scoped>\n",
       "    .dataframe tbody tr th:only-of-type {\n",
       "        vertical-align: middle;\n",
       "    }\n",
       "\n",
       "    .dataframe tbody tr th {\n",
       "        vertical-align: top;\n",
       "    }\n",
       "\n",
       "    .dataframe thead th {\n",
       "        text-align: right;\n",
       "    }\n",
       "</style>\n",
       "<table border=\"1\" class=\"dataframe\">\n",
       "  <thead>\n",
       "    <tr style=\"text-align: right;\">\n",
       "      <th></th>\n",
       "      <th>movieId</th>\n",
       "      <th>title</th>\n",
       "      <th>genres</th>\n",
       "    </tr>\n",
       "  </thead>\n",
       "  <tbody>\n",
       "    <tr>\n",
       "      <th>6481</th>\n",
       "      <td>52973</td>\n",
       "      <td>Knocked Up (2007)</td>\n",
       "      <td>Comedy|Drama|Romance</td>\n",
       "    </tr>\n",
       "  </tbody>\n",
       "</table>\n",
       "</div>"
      ],
      "text/plain": [
       "      movieId              title                genres\n",
       "6481    52973  Knocked Up (2007)  Comedy|Drama|Romance"
      ]
     },
     "execution_count": 41,
     "metadata": {},
     "output_type": "execute_result"
    }
   ],
   "source": [
    "Select"
   ]
  },
  {
   "cell_type": "code",
   "execution_count": null,
   "metadata": {},
   "outputs": [],
   "source": []
  }
 ],
 "metadata": {
  "kernelspec": {
   "display_name": "Python 3",
   "language": "python",
   "name": "python3"
  },
  "language_info": {
   "codemirror_mode": {
    "name": "ipython",
    "version": 3
   },
   "file_extension": ".py",
   "mimetype": "text/x-python",
   "name": "python",
   "nbconvert_exporter": "python",
   "pygments_lexer": "ipython3",
   "version": "3.6.5"
  }
 },
 "nbformat": 4,
 "nbformat_minor": 2
}
