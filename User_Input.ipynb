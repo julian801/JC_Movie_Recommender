{
 "cells": [
  {
   "cell_type": "code",
   "execution_count": 174,
   "metadata": {},
   "outputs": [],
   "source": [
    "import numpy as np\n",
    "import pandas as pd"
   ]
  },
  {
   "cell_type": "code",
   "execution_count": 194,
   "metadata": {},
   "outputs": [],
   "source": [
    "#importing ratings and movies csv files\n",
    "PATH2 = \"ratings.csv\"\n",
    "PATH3 = \"movies.csv\"\n",
    "ratings, movies_ind = pd.read_csv(PATH2), pd.read_csv(PATH3)"
   ]
  },
  {
   "cell_type": "code",
   "execution_count": 195,
   "metadata": {},
   "outputs": [],
   "source": [
    "# create an empty array the length of number of movies in system\n",
    "user_ratings = np.zeros(9724)"
   ]
  },
  {
   "cell_type": "code",
   "execution_count": 196,
   "metadata": {},
   "outputs": [],
   "source": [
    "#format ratings dataframe\n",
    "del ratings['timestamp']\n",
    "ratings.set_index(['userId','movieId'], inplace=True)\n",
    "ratings = ratings.unstack(0)"
   ]
  },
  {
   "cell_type": "code",
   "execution_count": 197,
   "metadata": {},
   "outputs": [],
   "source": [
    "ratings_count = ratings.count(axis=1) #count the number of ratings for each movie as a measure of popularity\n",
    "top = pd.DataFrame(ratings_count.sort_values(ascending = False).head(10)) #create a dataframe of the top 20 most popular movies"
   ]
  },
  {
   "cell_type": "code",
   "execution_count": 198,
   "metadata": {},
   "outputs": [],
   "source": [
    "top.reset_index(inplace=True)"
   ]
  },
  {
   "cell_type": "code",
   "execution_count": 201,
   "metadata": {},
   "outputs": [],
   "source": [
    "# get a list of top movie titles from movie id\n",
    "top_movies = []\n",
    "for x in top['movieId']:\n",
    "    top_movies.append(movies_ind[movies_ind['movieId']== x])"
   ]
  },
  {
   "cell_type": "markdown",
   "metadata": {},
   "source": [
    "## Of the following movies, rate all that you have seen on a scale of 1-5. \n",
    "## If you have not seen a movie, rate 0."
   ]
  },
  {
   "cell_type": "code",
   "execution_count": 208,
   "metadata": {
    "scrolled": true
   },
   "outputs": [
    {
     "name": "stdout",
     "output_type": "stream",
     "text": [
      "How would you rate 314    Forrest Gump (1994)\n",
      "Name: title, dtype: object5\n",
      "How would you rate 277    Shawshank Redemption, The (1994)\n",
      "Name: title, dtype: object5\n",
      "How would you rate 257    Pulp Fiction (1994)\n",
      "Name: title, dtype: object6\n",
      "How would you rate 510    Silence of the Lambs, The (1991)\n",
      "Name: title, dtype: object7\n",
      "How would you rate 1939    Matrix, The (1999)\n",
      "Name: title, dtype: object4\n",
      "How would you rate 224    Star Wars: Episode IV - A New Hope (1977)\n",
      "Name: title, dtype: object3\n",
      "How would you rate 418    Jurassic Park (1993)\n",
      "Name: title, dtype: object2\n",
      "How would you rate 97    Braveheart (1995)\n",
      "Name: title, dtype: object5\n",
      "How would you rate 507    Terminator 2: Judgment Day (1991)\n",
      "Name: title, dtype: object3\n",
      "How would you rate 461    Schindler's List (1993)\n",
      "Name: title, dtype: object2\n"
     ]
    }
   ],
   "source": [
    "#creates a list of ratings for the prompted movies\n",
    "user_input = []\n",
    "for i in range(0,10):\n",
    "    answer = int(input(\"How would you rate \" + str(top_movies[i]['title'])))\n",
    "    user_input.append(answer)"
   ]
  },
  {
   "cell_type": "code",
   "execution_count": 203,
   "metadata": {},
   "outputs": [],
   "source": [
    "# collect the indexes for each film in the user input array\n",
    "top_movies_index = []\n",
    "for x in range(0,10):\n",
    "    top_movies_index.append(top_movies[x].index)"
   ]
  },
  {
   "cell_type": "code",
   "execution_count": 204,
   "metadata": {},
   "outputs": [],
   "source": [
    "# inputs user rating into large array (9,000+ count) at appropriate indexes\n",
    "for i in range(0,10):\n",
    "    user_ratings[top_movies_index[i]] = user_ratings[i]"
   ]
  },
  {
   "cell_type": "code",
   "execution_count": 205,
   "metadata": {},
   "outputs": [
    {
     "data": {
      "text/plain": [
       "array([0., 0., 0., ..., 0., 0., 0.])"
      ]
     },
     "execution_count": 205,
     "metadata": {},
     "output_type": "execute_result"
    }
   ],
   "source": [
    "user_ratings"
   ]
  },
  {
   "cell_type": "raw",
   "metadata": {},
   "source": []
  }
 ],
 "metadata": {
  "kernelspec": {
   "display_name": "Python 3",
   "language": "python",
   "name": "python3"
  },
  "language_info": {
   "codemirror_mode": {
    "name": "ipython",
    "version": 3
   },
   "file_extension": ".py",
   "mimetype": "text/x-python",
   "name": "python",
   "nbconvert_exporter": "python",
   "pygments_lexer": "ipython3",
   "version": "3.6.5"
  }
 },
 "nbformat": 4,
 "nbformat_minor": 2
}
